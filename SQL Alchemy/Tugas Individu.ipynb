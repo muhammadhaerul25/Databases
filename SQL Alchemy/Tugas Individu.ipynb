{
 "cells": [
  {
   "cell_type": "markdown",
   "id": "fe214951",
   "metadata": {},
   "source": [
    "# Tugas Individu Teknologi Basis Data\n",
    "- Nama: Muhammad Haerul\n",
    "- NIM: H071201033\n",
    "- Kelas: A "
   ]
  },
  {
   "cell_type": "markdown",
   "id": "c393b38c",
   "metadata": {},
   "source": [
    "## Create Engine"
   ]
  },
  {
   "cell_type": "code",
   "execution_count": 1,
   "id": "587e81b5",
   "metadata": {},
   "outputs": [],
   "source": [
    "from sqlalchemy import create_engine\n",
    "engine = create_engine('mysql://root@localhost/classicmodels', echo=False)\n",
    "\n",
    "from sqlalchemy.ext.declarative import declarative_base\n",
    "Base = declarative_base()\n",
    "Base.metadata.create_all(engine)\n",
    "\n",
    "from sqlalchemy.orm import sessionmaker\n",
    "Session = sessionmaker(bind = engine)\n",
    "session = Session()"
   ]
  },
  {
   "cell_type": "markdown",
   "id": "424b1119",
   "metadata": {},
   "source": [
    "## Create Models"
   ]
  },
  {
   "cell_type": "code",
   "execution_count": 2,
   "id": "422e6c27",
   "metadata": {},
   "outputs": [],
   "source": [
    "from sqlalchemy import Column, DECIMAL, Date, ForeignKey, String, Text\n",
    "from sqlalchemy.dialects.mysql import INTEGER, MEDIUMBLOB, MEDIUMTEXT, SMALLINT\n",
    "from sqlalchemy.orm import relationship\n",
    "from sqlalchemy.ext.declarative import declarative_base\n",
    "\n",
    "Base = declarative_base()\n",
    "metadata = Base.metadata\n",
    "\n",
    "class Office(Base):\n",
    "    __tablename__ = 'offices'\n",
    "\n",
    "    officeCode = Column(String(10), primary_key=True)\n",
    "    city = Column(String(50), nullable=False)\n",
    "    phone = Column(String(50), nullable=False)\n",
    "    addressLine1 = Column(String(50), nullable=False)\n",
    "    addressLine2 = Column(String(50))\n",
    "    state = Column(String(50))\n",
    "    country = Column(String(50), nullable=False)\n",
    "    postalCode = Column(String(15), nullable=False)\n",
    "    territory = Column(String(10), nullable=False)\n",
    "\n",
    "\n",
    "class Productline(Base):\n",
    "    __tablename__ = 'productlines'\n",
    "\n",
    "    productLine = Column(String(50), primary_key=True)\n",
    "    textDescription = Column(String(4000))\n",
    "    htmlDescription = Column(MEDIUMTEXT)\n",
    "    image = Column(MEDIUMBLOB)\n",
    "\n",
    "\n",
    "class Employee(Base):\n",
    "    __tablename__ = 'employees'\n",
    "\n",
    "    employeeNumber = Column(INTEGER(11), primary_key=True)\n",
    "    lastName = Column(String(50), nullable=False)\n",
    "    firstName = Column(String(50), nullable=False)\n",
    "    extension = Column(String(10), nullable=False)\n",
    "    email = Column(String(100), nullable=False)\n",
    "    officeCode = Column(ForeignKey('offices.officeCode'), nullable=False, index=True)\n",
    "    reportsTo = Column(ForeignKey('employees.employeeNumber'), index=True)\n",
    "    jobTitle = Column(String(50), nullable=False)\n",
    "\n",
    "    office = relationship('Office')\n",
    "    parent = relationship('Employee', remote_side=[employeeNumber])\n",
    "\n",
    "\n",
    "class Product(Base):\n",
    "    __tablename__ = 'products'\n",
    "\n",
    "    productCode = Column(String(15), primary_key=True)\n",
    "    productName = Column(String(70), nullable=False)\n",
    "    productLine = Column(ForeignKey('productlines.productLine'), nullable=False, index=True)\n",
    "    productScale = Column(String(10), nullable=False)\n",
    "    productVendor = Column(String(50), nullable=False)\n",
    "    productDescription = Column(Text, nullable=False)\n",
    "    quantityInStock = Column(SMALLINT(6), nullable=False)\n",
    "    buyPrice = Column(DECIMAL(10, 2), nullable=False)\n",
    "    MSRP = Column(DECIMAL(10, 2), nullable=False)\n",
    "\n",
    "    productline = relationship('Productline')\n",
    "\n",
    "\n",
    "class Customer(Base):\n",
    "    __tablename__ = 'customers'\n",
    "\n",
    "    customerNumber = Column(INTEGER(11), primary_key=True)\n",
    "    customerName = Column(String(50), nullable=False)\n",
    "    contactLastName = Column(String(50), nullable=False)\n",
    "    contactFirstName = Column(String(50), nullable=False)\n",
    "    phone = Column(String(50), nullable=False)\n",
    "    addressLine1 = Column(String(50), nullable=False)\n",
    "    addressLine2 = Column(String(50))\n",
    "    city = Column(String(50), nullable=False)\n",
    "    state = Column(String(50))\n",
    "    postalCode = Column(String(15))\n",
    "    country = Column(String(50), nullable=False)\n",
    "    salesRepEmployeeNumber = Column(ForeignKey('employees.employeeNumber'), index=True)\n",
    "    creditLimit = Column(DECIMAL(10, 2))\n",
    "\n",
    "    employee = relationship('Employee')\n",
    "\n",
    "\n",
    "class Order(Base):\n",
    "    __tablename__ = 'orders'\n",
    "\n",
    "    orderNumber = Column(INTEGER(11), primary_key=True)\n",
    "    orderDate = Column(Date, nullable=False)\n",
    "    requiredDate = Column(Date, nullable=False)\n",
    "    shippedDate = Column(Date)\n",
    "    status = Column(String(15), nullable=False)\n",
    "    comments = Column(Text)\n",
    "    customerNumber = Column(ForeignKey('customers.customerNumber'), nullable=False, index=True)\n",
    "\n",
    "    customer = relationship('Customer')\n",
    "\n",
    "\n",
    "class Payment(Base):\n",
    "    __tablename__ = 'payments'\n",
    "\n",
    "    customerNumber = Column(ForeignKey('customers.customerNumber'), primary_key=True, nullable=False)\n",
    "    checkNumber = Column(String(50), primary_key=True, nullable=False)\n",
    "    paymentDate = Column(Date, nullable=False)\n",
    "    amount = Column(DECIMAL(10, 2), nullable=False)\n",
    "\n",
    "    customer = relationship('Customer')\n",
    "\n",
    "\n",
    "class Orderdetail(Base):\n",
    "    __tablename__ = 'orderdetails'\n",
    "\n",
    "    orderNumber = Column(ForeignKey('orders.orderNumber'), primary_key=True, nullable=False)\n",
    "    productCode = Column(ForeignKey('products.productCode'), primary_key=True, nullable=False, index=True)\n",
    "    quantityOrdered = Column(INTEGER(11), nullable=False)\n",
    "    priceEach = Column(DECIMAL(10, 2), nullable=False)\n",
    "    orderLineNumber = Column(SMALLINT(6), nullable=False)\n",
    "\n",
    "    order = relationship('Order')\n",
    "    product = relationship('Product')"
   ]
  },
  {
   "cell_type": "markdown",
   "id": "4bc36276",
   "metadata": {},
   "source": [
    "## Define and Import Helper Functions"
   ]
  },
  {
   "cell_type": "code",
   "execution_count": 10,
   "id": "0053a5f3",
   "metadata": {},
   "outputs": [],
   "source": [
    "import pandas as pd\n",
    "from sqlalchemy.sql import func\n",
    "from sqlalchemy import or_\n",
    "\n",
    "def to_df_dict(query):\n",
    "    return pd.DataFrame([i.__dict__ for i in query]).drop(columns='_sa_instance_state')\n",
    "\n",
    "def to_df(query):\n",
    "    df = pd.read_sql(query.statement, engine)\n",
    "    return df"
   ]
  },
  {
   "cell_type": "markdown",
   "id": "6f3487f9",
   "metadata": {},
   "source": [
    "## Questions"
   ]
  },
  {
   "cell_type": "markdown",
   "id": "3e66c9f7",
   "metadata": {},
   "source": [
    "### 1. Prepare a list of offices sorted by country, state, city."
   ]
  },
  {
   "cell_type": "code",
   "execution_count": 4,
   "id": "fd92200f",
   "metadata": {},
   "outputs": [
    {
     "data": {
      "text/html": [
       "<style type=\"text/css\">\n",
       "</style>\n",
       "<table id=\"T_f91e1\">\n",
       "  <thead>\n",
       "    <tr>\n",
       "      <th id=\"T_f91e1_level0_col0\" class=\"col_heading level0 col0\" >officeCode</th>\n",
       "      <th id=\"T_f91e1_level0_col1\" class=\"col_heading level0 col1\" >country</th>\n",
       "      <th id=\"T_f91e1_level0_col2\" class=\"col_heading level0 col2\" >state</th>\n",
       "      <th id=\"T_f91e1_level0_col3\" class=\"col_heading level0 col3\" >city</th>\n",
       "    </tr>\n",
       "  </thead>\n",
       "  <tbody>\n",
       "    <tr>\n",
       "      <td id=\"T_f91e1_row0_col0\" class=\"data row0 col0\" >6</td>\n",
       "      <td id=\"T_f91e1_row0_col1\" class=\"data row0 col1\" >Australia</td>\n",
       "      <td id=\"T_f91e1_row0_col2\" class=\"data row0 col2\" >None</td>\n",
       "      <td id=\"T_f91e1_row0_col3\" class=\"data row0 col3\" >Sydney</td>\n",
       "    </tr>\n",
       "    <tr>\n",
       "      <td id=\"T_f91e1_row1_col0\" class=\"data row1 col0\" >4</td>\n",
       "      <td id=\"T_f91e1_row1_col1\" class=\"data row1 col1\" >France</td>\n",
       "      <td id=\"T_f91e1_row1_col2\" class=\"data row1 col2\" >None</td>\n",
       "      <td id=\"T_f91e1_row1_col3\" class=\"data row1 col3\" >Paris</td>\n",
       "    </tr>\n",
       "    <tr>\n",
       "      <td id=\"T_f91e1_row2_col0\" class=\"data row2 col0\" >5</td>\n",
       "      <td id=\"T_f91e1_row2_col1\" class=\"data row2 col1\" >Japan</td>\n",
       "      <td id=\"T_f91e1_row2_col2\" class=\"data row2 col2\" >Chiyoda-Ku</td>\n",
       "      <td id=\"T_f91e1_row2_col3\" class=\"data row2 col3\" >Tokyo</td>\n",
       "    </tr>\n",
       "    <tr>\n",
       "      <td id=\"T_f91e1_row3_col0\" class=\"data row3 col0\" >7</td>\n",
       "      <td id=\"T_f91e1_row3_col1\" class=\"data row3 col1\" >UK</td>\n",
       "      <td id=\"T_f91e1_row3_col2\" class=\"data row3 col2\" >None</td>\n",
       "      <td id=\"T_f91e1_row3_col3\" class=\"data row3 col3\" >London</td>\n",
       "    </tr>\n",
       "    <tr>\n",
       "      <td id=\"T_f91e1_row4_col0\" class=\"data row4 col0\" >1</td>\n",
       "      <td id=\"T_f91e1_row4_col1\" class=\"data row4 col1\" >USA</td>\n",
       "      <td id=\"T_f91e1_row4_col2\" class=\"data row4 col2\" >CA</td>\n",
       "      <td id=\"T_f91e1_row4_col3\" class=\"data row4 col3\" >San Francisco</td>\n",
       "    </tr>\n",
       "    <tr>\n",
       "      <td id=\"T_f91e1_row5_col0\" class=\"data row5 col0\" >2</td>\n",
       "      <td id=\"T_f91e1_row5_col1\" class=\"data row5 col1\" >USA</td>\n",
       "      <td id=\"T_f91e1_row5_col2\" class=\"data row5 col2\" >MA</td>\n",
       "      <td id=\"T_f91e1_row5_col3\" class=\"data row5 col3\" >Boston</td>\n",
       "    </tr>\n",
       "    <tr>\n",
       "      <td id=\"T_f91e1_row6_col0\" class=\"data row6 col0\" >3</td>\n",
       "      <td id=\"T_f91e1_row6_col1\" class=\"data row6 col1\" >USA</td>\n",
       "      <td id=\"T_f91e1_row6_col2\" class=\"data row6 col2\" >NY</td>\n",
       "      <td id=\"T_f91e1_row6_col3\" class=\"data row6 col3\" >NYC</td>\n",
       "    </tr>\n",
       "  </tbody>\n",
       "</table>\n"
      ],
      "text/plain": [
       "<pandas.io.formats.style.Styler at 0x1d1c4fa1270>"
      ]
     },
     "execution_count": 4,
     "metadata": {},
     "output_type": "execute_result"
    }
   ],
   "source": [
    "o = Office\n",
    "num1 = session.query(o.officeCode, o.country, o.state, o.city).order_by(Office.country, Office.state, Office.city)\n",
    "\n",
    "df1 = to_df(num1)\n",
    "df1.style.hide(axis='index')"
   ]
  },
  {
   "cell_type": "markdown",
   "id": "23a02efb",
   "metadata": {},
   "source": [
    "### 2. How many employees are there in the company?"
   ]
  },
  {
   "cell_type": "code",
   "execution_count": 174,
   "id": "e3ee732b",
   "metadata": {},
   "outputs": [
    {
     "name": "stdout",
     "output_type": "stream",
     "text": [
      "Number of employee = 23\n"
     ]
    }
   ],
   "source": [
    "num2 = session.query(Employee).count()\n",
    "print('Number of employee =', num2)"
   ]
  },
  {
   "cell_type": "markdown",
   "id": "25fc3032",
   "metadata": {},
   "source": [
    "### 3. What is the total of payments received?"
   ]
  },
  {
   "cell_type": "code",
   "execution_count": 7,
   "id": "af9231c9",
   "metadata": {},
   "outputs": [
    {
     "name": "stdout",
     "output_type": "stream",
     "text": [
      "Total payment = 8853839.23\n"
     ]
    }
   ],
   "source": [
    "num3 = session.query(func.sum(Payment.amount)).scalar()\n",
    "print('Total payment =', num3)"
   ]
  },
  {
   "cell_type": "markdown",
   "id": "978dfc76",
   "metadata": {},
   "source": [
    "### 4. List the product lines that contain 'Cars'"
   ]
  },
  {
   "cell_type": "code",
   "execution_count": 182,
   "id": "86ae93d7",
   "metadata": {},
   "outputs": [
    {
     "data": {
      "text/html": [
       "<style type=\"text/css\">\n",
       "</style>\n",
       "<table id=\"T_652bc\">\n",
       "  <thead>\n",
       "    <tr>\n",
       "      <th id=\"T_652bc_level0_col0\" class=\"col_heading level0 col0\" >productLine</th>\n",
       "      <th id=\"T_652bc_level0_col1\" class=\"col_heading level0 col1\" >textDescription</th>\n",
       "      <th id=\"T_652bc_level0_col2\" class=\"col_heading level0 col2\" >htmlDescription</th>\n",
       "      <th id=\"T_652bc_level0_col3\" class=\"col_heading level0 col3\" >image</th>\n",
       "    </tr>\n",
       "  </thead>\n",
       "  <tbody>\n",
       "    <tr>\n",
       "      <td id=\"T_652bc_row0_col0\" class=\"data row0 col0\" >Classic Cars</td>\n",
       "      <td id=\"T_652bc_row0_col1\" class=\"data row0 col1\" >Attention car enthusiasts: Make your wildest car ownership dreams come true. Whether you are looking for classic muscle cars, dream sports cars or movie-inspired miniatures, you will find great choices in this category. These replicas feature superb attention to detail and craftsmanship and offer features such as working steering system, opening forward compartment, opening rear trunk with removable spare wheel, 4-wheel independent spring suspension, and so on. The models range in size from 1:10 to 1:24 scale and include numerous limited edition and several out-of-production vehicles. All models include a certificate of authenticity from their manufacturers and come fully assembled and ready for display in the home or office.</td>\n",
       "      <td id=\"T_652bc_row0_col2\" class=\"data row0 col2\" >None</td>\n",
       "      <td id=\"T_652bc_row0_col3\" class=\"data row0 col3\" >None</td>\n",
       "    </tr>\n",
       "    <tr>\n",
       "      <td id=\"T_652bc_row1_col0\" class=\"data row1 col0\" >Vintage Cars</td>\n",
       "      <td id=\"T_652bc_row1_col1\" class=\"data row1 col1\" >Our Vintage Car models realistically portray automobiles produced from the early 1900s through the 1940s. Materials used include Bakelite, diecast, plastic and wood. Most of the replicas are in the 1:18 and 1:24 scale sizes, which provide the optimum in detail and accuracy. Prices range from $30.00 up to $180.00 for some special limited edition replicas. All models include a certificate of authenticity from their manufacturers and come fully assembled and ready for display in the home or office.</td>\n",
       "      <td id=\"T_652bc_row1_col2\" class=\"data row1 col2\" >None</td>\n",
       "      <td id=\"T_652bc_row1_col3\" class=\"data row1 col3\" >None</td>\n",
       "    </tr>\n",
       "  </tbody>\n",
       "</table>\n"
      ],
      "text/plain": [
       "<pandas.io.formats.style.Styler at 0x2ba4fd28220>"
      ]
     },
     "execution_count": 182,
     "metadata": {},
     "output_type": "execute_result"
    }
   ],
   "source": [
    "num4 = session.query(Productline).filter(Productline.productLine.contains('Cars'))\n",
    "\n",
    "df4 = to_df(num4)\n",
    "df4.style.hide(axis='index')"
   ]
  },
  {
   "cell_type": "markdown",
   "id": "063563bd",
   "metadata": {},
   "source": [
    "### 5. Report total payments for October 28, 2004."
   ]
  },
  {
   "cell_type": "code",
   "execution_count": 177,
   "id": "3fd343a8",
   "metadata": {},
   "outputs": [
    {
     "name": "stdout",
     "output_type": "stream",
     "text": [
      "Total Payments for October 28, 2004 is $47411.33\n"
     ]
    }
   ],
   "source": [
    "num5 = session.query(func.sum(Payment.amount)).filter(Payment.paymentDate.contains(\"2004-10-28\")).scalar()\n",
    "print(f\"Total Payments for October 28, 2004 is ${num5}\")"
   ]
  },
  {
   "cell_type": "markdown",
   "id": "c6bbf5d3",
   "metadata": {},
   "source": [
    "### 6. Report those payments greater than $100,000."
   ]
  },
  {
   "cell_type": "code",
   "execution_count": 183,
   "id": "6a70ca8b",
   "metadata": {},
   "outputs": [
    {
     "data": {
      "text/html": [
       "<style type=\"text/css\">\n",
       "</style>\n",
       "<table id=\"T_05af9\">\n",
       "  <thead>\n",
       "    <tr>\n",
       "      <th id=\"T_05af9_level0_col0\" class=\"col_heading level0 col0\" >customerNumber</th>\n",
       "      <th id=\"T_05af9_level0_col1\" class=\"col_heading level0 col1\" >checkNumber</th>\n",
       "      <th id=\"T_05af9_level0_col2\" class=\"col_heading level0 col2\" >paymentDate</th>\n",
       "      <th id=\"T_05af9_level0_col3\" class=\"col_heading level0 col3\" >amount</th>\n",
       "    </tr>\n",
       "  </thead>\n",
       "  <tbody>\n",
       "    <tr>\n",
       "      <td id=\"T_05af9_row0_col0\" class=\"data row0 col0\" >124</td>\n",
       "      <td id=\"T_05af9_row0_col1\" class=\"data row0 col1\" >AE215433</td>\n",
       "      <td id=\"T_05af9_row0_col2\" class=\"data row0 col2\" >2005-03-05</td>\n",
       "      <td id=\"T_05af9_row0_col3\" class=\"data row0 col3\" >101244.590000</td>\n",
       "    </tr>\n",
       "    <tr>\n",
       "      <td id=\"T_05af9_row1_col0\" class=\"data row1 col0\" >124</td>\n",
       "      <td id=\"T_05af9_row1_col1\" class=\"data row1 col1\" >KI131716</td>\n",
       "      <td id=\"T_05af9_row1_col2\" class=\"data row1 col2\" >2003-08-15</td>\n",
       "      <td id=\"T_05af9_row1_col3\" class=\"data row1 col3\" >111654.400000</td>\n",
       "    </tr>\n",
       "    <tr>\n",
       "      <td id=\"T_05af9_row2_col0\" class=\"data row2 col0\" >141</td>\n",
       "      <td id=\"T_05af9_row2_col1\" class=\"data row2 col1\" >ID10962</td>\n",
       "      <td id=\"T_05af9_row2_col2\" class=\"data row2 col2\" >2004-12-31</td>\n",
       "      <td id=\"T_05af9_row2_col3\" class=\"data row2 col3\" >116208.400000</td>\n",
       "    </tr>\n",
       "    <tr>\n",
       "      <td id=\"T_05af9_row3_col0\" class=\"data row3 col0\" >141</td>\n",
       "      <td id=\"T_05af9_row3_col1\" class=\"data row3 col1\" >JE105477</td>\n",
       "      <td id=\"T_05af9_row3_col2\" class=\"data row3 col2\" >2005-03-18</td>\n",
       "      <td id=\"T_05af9_row3_col3\" class=\"data row3 col3\" >120166.580000</td>\n",
       "    </tr>\n",
       "    <tr>\n",
       "      <td id=\"T_05af9_row4_col0\" class=\"data row4 col0\" >148</td>\n",
       "      <td id=\"T_05af9_row4_col1\" class=\"data row4 col1\" >KM172879</td>\n",
       "      <td id=\"T_05af9_row4_col2\" class=\"data row4 col2\" >2003-12-26</td>\n",
       "      <td id=\"T_05af9_row4_col3\" class=\"data row4 col3\" >105743.000000</td>\n",
       "    </tr>\n",
       "  </tbody>\n",
       "</table>\n"
      ],
      "text/plain": [
       "<pandas.io.formats.style.Styler at 0x2ba4fc29b70>"
      ]
     },
     "execution_count": 183,
     "metadata": {},
     "output_type": "execute_result"
    }
   ],
   "source": [
    "num6 = session.query(Payment).filter(Payment.amount > 100000)\n",
    "\n",
    "df6 = to_df(num6)\n",
    "df6.style.hide(axis='index')"
   ]
  },
  {
   "cell_type": "markdown",
   "id": "d7f73669",
   "metadata": {},
   "source": [
    "### 7. List the products in each product line."
   ]
  },
  {
   "cell_type": "code",
   "execution_count": 184,
   "id": "75938441",
   "metadata": {},
   "outputs": [
    {
     "data": {
      "text/html": [
       "<style type=\"text/css\">\n",
       "</style>\n",
       "<table id=\"T_d4d07\">\n",
       "  <thead>\n",
       "    <tr>\n",
       "      <th id=\"T_d4d07_level0_col0\" class=\"col_heading level0 col0\" >productLine</th>\n",
       "      <th id=\"T_d4d07_level0_col1\" class=\"col_heading level0 col1\" >listProduct</th>\n",
       "    </tr>\n",
       "  </thead>\n",
       "  <tbody>\n",
       "    <tr>\n",
       "      <td id=\"T_d4d07_row0_col0\" class=\"data row0 col0\" >Classic Cars</td>\n",
       "      <td id=\"T_d4d07_row0_col1\" class=\"data row0 col1\" >1952 Alpine Renault 1300,1972 Alfa Romeo GTA,1962 LanciaA Delta 16V,1968 Ford Mustang,2001 Ferrari Enzo,1969 Corvair Monza,1968 Dodge Charger,1969 Ford Falcon,1970 Plymouth Hemi Cuda,1969 Dodge Charger,1993 Mazda RX-7,1965 Aston Martin DB5,1948 Porsche 356-A Roadster,1995 Honda Civic,1998 Chrysler Plymouth Prowler,1999 Indy 500 Monte Carlo SS,1992 Ferrari 360 Spider red,1985 Toyota Supra,1969 Dodge Super Bee,1976 Ford Gran Torino,1948 Porsche Type 356 Roadster,1970 Triumph Spitfire,1957 Corvette Convertible,1957 Ford Thunderbird,1970 Chevy Chevelle SS 454,1970 Dodge Coronet,1966 Shelby Cobra 427 S/C,1949 Jaguar XK 120,1958 Chevy Corvette Limited Edition,1952 Citroen-15CV,1982 Lamborghini Diablo,1969 Chevrolet Camaro Z28,1971 Alpine Renault 1600s,2002 Chevy Corvette,1956 Porsche 356A Coupe,1992 Porsche Cayenne Turbo Silver,1961 Chevrolet Impala,1982 Camaro Z28</td>\n",
       "    </tr>\n",
       "    <tr>\n",
       "      <td id=\"T_d4d07_row1_col0\" class=\"data row1 col0\" >Motorcycles</td>\n",
       "      <td id=\"T_d4d07_row1_col1\" class=\"data row1 col1\" >1969 Harley Davidson Ultimate Chopper,1996 Moto Guzzi 1100i,2003 Harley-Davidson Eagle Drag Bike,2002 Suzuki XREO,1936 Harley Davidson El Knucklehead,1957 Vespa GS150,1997 BMW R 1100 S,1960 BSA Gold Star DBD34,1982 Ducati 900 Monster,1997 BMW F650 ST,1982 Ducati 996 R,1974 Ducati 350 Mk3 Desmo,2002 Yamaha YZR M1</td>\n",
       "    </tr>\n",
       "    <tr>\n",
       "      <td id=\"T_d4d07_row2_col0\" class=\"data row2 col0\" >Planes</td>\n",
       "      <td id=\"T_d4d07_row2_col1\" class=\"data row2 col1\" >1980s Black Hawk Helicopter,P-51-D Mustang,1928 British Royal Navy Airplane,1900s Vintage Bi-Plane,Corsair F4U ( Bird Cage),1900s Vintage Tri-Plane,American Airlines: B767-300,America West Airlines B757-200,ATA: B757-300,F/A 18 Hornet 1/72,American Airlines: MD-11S,Boeing X-32A JSF</td>\n",
       "    </tr>\n",
       "    <tr>\n",
       "      <td id=\"T_d4d07_row3_col0\" class=\"data row3 col0\" >Ships</td>\n",
       "      <td id=\"T_d4d07_row3_col1\" class=\"data row3 col1\" >1999 Yamaha Speed Boat,18th century schooner,The Schooner Bluenose,The Mayflower,HMS Bounty,The USS Constitution Ship,The Titanic,The Queen Mary,Pont Yacht</td>\n",
       "    </tr>\n",
       "    <tr>\n",
       "      <td id=\"T_d4d07_row4_col0\" class=\"data row4 col0\" >Trains</td>\n",
       "      <td id=\"T_d4d07_row4_col1\" class=\"data row4 col1\" >Collectable Wooden Train,1950's Chicago Surface Lines Streetcar,1962 City of Detroit Streetcar</td>\n",
       "    </tr>\n",
       "    <tr>\n",
       "      <td id=\"T_d4d07_row5_col0\" class=\"data row5 col0\" >Trucks and Buses</td>\n",
       "      <td id=\"T_d4d07_row5_col1\" class=\"data row5 col1\" >1958 Setra Bus,1957 Chevy Pickup,1940 Ford Pickup Truck,1964 Mercedes Tour Bus,1926 Ford Fire Engine,1940s Ford truck,1962 Volkswagen Microbus,1980’s GM Manhattan Express,1954 Greyhound Scenicruiser,1996 Peterbilt 379 Stake Bed with Outrigger,Diamond T620 Semi-Skirted Tanker</td>\n",
       "    </tr>\n",
       "    <tr>\n",
       "      <td id=\"T_d4d07_row6_col0\" class=\"data row6 col0\" >Vintage Cars</td>\n",
       "      <td id=\"T_d4d07_row6_col1\" class=\"data row6 col1\" >1937 Lincoln Berline,1936 Mercedes-Benz 500K Special Roadster,1917 Grand Touring Sedan,1911 Ford Town Car,1932 Model A Ford J-Coupe,1928 Mercedes-Benz SSK,1913 Ford Model T Speedster,1934 Ford V8 Coupe,18th Century Vintage Horse Carriage,1903 Ford Model A,1917 Maxwell Touring Car,1941 Chevrolet Special Deluxe Cabriolet,1932 Alfa Romeo 8C2300 Spider Sport,1904 Buick Runabout,1939 Cadillac Limousine,1939 Chevrolet Deluxe Coupe,1938 Cadillac V-16 Presidential Limousine,1912 Ford Model T Delivery Wagon,1937 Horch 930V Limousine,1940 Ford Delivery Sedan,1936 Mercedes Benz 500k Roadster,1936 Chrysler Airflow,1928 Ford Phaeton Deluxe,1930 Buick Marquette Phaeton</td>\n",
       "    </tr>\n",
       "  </tbody>\n",
       "</table>\n"
      ],
      "text/plain": [
       "<pandas.io.formats.style.Styler at 0x2ba4d20b130>"
      ]
     },
     "execution_count": 184,
     "metadata": {},
     "output_type": "execute_result"
    }
   ],
   "source": [
    "num7 = session.query(Product, func.group_concat(Product.productName)).group_by(Product.productLine)\n",
    "\n",
    "df7 = to_df(num7).rename(columns={'group_concat_1':'listProduct'})\n",
    "df7[['productLine', 'listProduct']].style.hide(axis='index')"
   ]
  },
  {
   "cell_type": "markdown",
   "id": "5eb9e809",
   "metadata": {},
   "source": [
    "### 8. How many products in each product line?"
   ]
  },
  {
   "cell_type": "code",
   "execution_count": 185,
   "id": "498d11b1",
   "metadata": {},
   "outputs": [
    {
     "data": {
      "text/html": [
       "<style type=\"text/css\">\n",
       "</style>\n",
       "<table id=\"T_ab113\">\n",
       "  <thead>\n",
       "    <tr>\n",
       "      <th id=\"T_ab113_level0_col0\" class=\"col_heading level0 col0\" >productLine</th>\n",
       "      <th id=\"T_ab113_level0_col1\" class=\"col_heading level0 col1\" >countProduct</th>\n",
       "    </tr>\n",
       "  </thead>\n",
       "  <tbody>\n",
       "    <tr>\n",
       "      <td id=\"T_ab113_row0_col0\" class=\"data row0 col0\" >Classic Cars</td>\n",
       "      <td id=\"T_ab113_row0_col1\" class=\"data row0 col1\" >38</td>\n",
       "    </tr>\n",
       "    <tr>\n",
       "      <td id=\"T_ab113_row1_col0\" class=\"data row1 col0\" >Motorcycles</td>\n",
       "      <td id=\"T_ab113_row1_col1\" class=\"data row1 col1\" >13</td>\n",
       "    </tr>\n",
       "    <tr>\n",
       "      <td id=\"T_ab113_row2_col0\" class=\"data row2 col0\" >Planes</td>\n",
       "      <td id=\"T_ab113_row2_col1\" class=\"data row2 col1\" >12</td>\n",
       "    </tr>\n",
       "    <tr>\n",
       "      <td id=\"T_ab113_row3_col0\" class=\"data row3 col0\" >Ships</td>\n",
       "      <td id=\"T_ab113_row3_col1\" class=\"data row3 col1\" >9</td>\n",
       "    </tr>\n",
       "    <tr>\n",
       "      <td id=\"T_ab113_row4_col0\" class=\"data row4 col0\" >Trains</td>\n",
       "      <td id=\"T_ab113_row4_col1\" class=\"data row4 col1\" >3</td>\n",
       "    </tr>\n",
       "    <tr>\n",
       "      <td id=\"T_ab113_row5_col0\" class=\"data row5 col0\" >Trucks and Buses</td>\n",
       "      <td id=\"T_ab113_row5_col1\" class=\"data row5 col1\" >11</td>\n",
       "    </tr>\n",
       "    <tr>\n",
       "      <td id=\"T_ab113_row6_col0\" class=\"data row6 col0\" >Vintage Cars</td>\n",
       "      <td id=\"T_ab113_row6_col1\" class=\"data row6 col1\" >24</td>\n",
       "    </tr>\n",
       "  </tbody>\n",
       "</table>\n"
      ],
      "text/plain": [
       "<pandas.io.formats.style.Styler at 0x2ba4fd0b910>"
      ]
     },
     "execution_count": 185,
     "metadata": {},
     "output_type": "execute_result"
    }
   ],
   "source": [
    "num8 = session.query(Product.productLine, func.count(Product.productCode)).group_by(Product.productLine)\n",
    "\n",
    "df8 = to_df(num8).rename(columns={'count_1':'countProduct'})\n",
    "df8.style.hide(axis='index')"
   ]
  },
  {
   "cell_type": "markdown",
   "id": "fd6a0b39",
   "metadata": {},
   "source": [
    "### 9. What is the minimum payment received?"
   ]
  },
  {
   "cell_type": "code",
   "execution_count": 157,
   "id": "0ec73810",
   "metadata": {},
   "outputs": [
    {
     "name": "stdout",
     "output_type": "stream",
     "text": [
      "Minimum payment = 615.45\n"
     ]
    }
   ],
   "source": [
    "num9 = session.query(func.min(Payment.amount)).scalar()\n",
    "print('Minimum payment =', num9)"
   ]
  },
  {
   "cell_type": "markdown",
   "id": "9daeb6f4",
   "metadata": {},
   "source": [
    "### 10. List all payments greater than twice the average payment."
   ]
  },
  {
   "cell_type": "code",
   "execution_count": 186,
   "id": "8971bfe9",
   "metadata": {},
   "outputs": [
    {
     "data": {
      "text/html": [
       "<style type=\"text/css\">\n",
       "</style>\n",
       "<table id=\"T_a93be\">\n",
       "  <thead>\n",
       "    <tr>\n",
       "      <th id=\"T_a93be_level0_col0\" class=\"col_heading level0 col0\" >customerNumber</th>\n",
       "      <th id=\"T_a93be_level0_col1\" class=\"col_heading level0 col1\" >checkNumber</th>\n",
       "      <th id=\"T_a93be_level0_col2\" class=\"col_heading level0 col2\" >paymentDate</th>\n",
       "      <th id=\"T_a93be_level0_col3\" class=\"col_heading level0 col3\" >amount</th>\n",
       "    </tr>\n",
       "  </thead>\n",
       "  <tbody>\n",
       "    <tr>\n",
       "      <td id=\"T_a93be_row0_col0\" class=\"data row0 col0\" >114</td>\n",
       "      <td id=\"T_a93be_row0_col1\" class=\"data row0 col1\" >MA765515</td>\n",
       "      <td id=\"T_a93be_row0_col2\" class=\"data row0 col2\" >2004-12-15</td>\n",
       "      <td id=\"T_a93be_row0_col3\" class=\"data row0 col3\" >82261.220000</td>\n",
       "    </tr>\n",
       "    <tr>\n",
       "      <td id=\"T_a93be_row1_col0\" class=\"data row1 col0\" >124</td>\n",
       "      <td id=\"T_a93be_row1_col1\" class=\"data row1 col1\" >AE215433</td>\n",
       "      <td id=\"T_a93be_row1_col2\" class=\"data row1 col2\" >2005-03-05</td>\n",
       "      <td id=\"T_a93be_row1_col3\" class=\"data row1 col3\" >101244.590000</td>\n",
       "    </tr>\n",
       "    <tr>\n",
       "      <td id=\"T_a93be_row2_col0\" class=\"data row2 col0\" >124</td>\n",
       "      <td id=\"T_a93be_row2_col1\" class=\"data row2 col1\" >BG255406</td>\n",
       "      <td id=\"T_a93be_row2_col2\" class=\"data row2 col2\" >2004-08-28</td>\n",
       "      <td id=\"T_a93be_row2_col3\" class=\"data row2 col3\" >85410.870000</td>\n",
       "    </tr>\n",
       "    <tr>\n",
       "      <td id=\"T_a93be_row3_col0\" class=\"data row3 col0\" >124</td>\n",
       "      <td id=\"T_a93be_row3_col1\" class=\"data row3 col1\" >ET64396</td>\n",
       "      <td id=\"T_a93be_row3_col2\" class=\"data row3 col2\" >2005-04-16</td>\n",
       "      <td id=\"T_a93be_row3_col3\" class=\"data row3 col3\" >83598.040000</td>\n",
       "    </tr>\n",
       "    <tr>\n",
       "      <td id=\"T_a93be_row4_col0\" class=\"data row4 col0\" >124</td>\n",
       "      <td id=\"T_a93be_row4_col1\" class=\"data row4 col1\" >KI131716</td>\n",
       "      <td id=\"T_a93be_row4_col2\" class=\"data row4 col2\" >2003-08-15</td>\n",
       "      <td id=\"T_a93be_row4_col3\" class=\"data row4 col3\" >111654.400000</td>\n",
       "    </tr>\n",
       "    <tr>\n",
       "      <td id=\"T_a93be_row5_col0\" class=\"data row5 col0\" >141</td>\n",
       "      <td id=\"T_a93be_row5_col1\" class=\"data row5 col1\" >ID10962</td>\n",
       "      <td id=\"T_a93be_row5_col2\" class=\"data row5 col2\" >2004-12-31</td>\n",
       "      <td id=\"T_a93be_row5_col3\" class=\"data row5 col3\" >116208.400000</td>\n",
       "    </tr>\n",
       "    <tr>\n",
       "      <td id=\"T_a93be_row6_col0\" class=\"data row6 col0\" >141</td>\n",
       "      <td id=\"T_a93be_row6_col1\" class=\"data row6 col1\" >IN446258</td>\n",
       "      <td id=\"T_a93be_row6_col2\" class=\"data row6 col2\" >2005-03-25</td>\n",
       "      <td id=\"T_a93be_row6_col3\" class=\"data row6 col3\" >65071.260000</td>\n",
       "    </tr>\n",
       "    <tr>\n",
       "      <td id=\"T_a93be_row7_col0\" class=\"data row7 col0\" >141</td>\n",
       "      <td id=\"T_a93be_row7_col1\" class=\"data row7 col1\" >JE105477</td>\n",
       "      <td id=\"T_a93be_row7_col2\" class=\"data row7 col2\" >2005-03-18</td>\n",
       "      <td id=\"T_a93be_row7_col3\" class=\"data row7 col3\" >120166.580000</td>\n",
       "    </tr>\n",
       "    <tr>\n",
       "      <td id=\"T_a93be_row8_col0\" class=\"data row8 col0\" >148</td>\n",
       "      <td id=\"T_a93be_row8_col1\" class=\"data row8 col1\" >KM172879</td>\n",
       "      <td id=\"T_a93be_row8_col2\" class=\"data row8 col2\" >2003-12-26</td>\n",
       "      <td id=\"T_a93be_row8_col3\" class=\"data row8 col3\" >105743.000000</td>\n",
       "    </tr>\n",
       "    <tr>\n",
       "      <td id=\"T_a93be_row9_col0\" class=\"data row9 col0\" >167</td>\n",
       "      <td id=\"T_a93be_row9_col1\" class=\"data row9 col1\" >GN228846</td>\n",
       "      <td id=\"T_a93be_row9_col2\" class=\"data row9 col2\" >2003-12-03</td>\n",
       "      <td id=\"T_a93be_row9_col3\" class=\"data row9 col3\" >85024.460000</td>\n",
       "    </tr>\n",
       "    <tr>\n",
       "      <td id=\"T_a93be_row10_col0\" class=\"data row10 col0\" >239</td>\n",
       "      <td id=\"T_a93be_row10_col1\" class=\"data row10 col1\" >NQ865547</td>\n",
       "      <td id=\"T_a93be_row10_col2\" class=\"data row10 col2\" >2004-03-15</td>\n",
       "      <td id=\"T_a93be_row10_col3\" class=\"data row10 col3\" >80375.240000</td>\n",
       "    </tr>\n",
       "    <tr>\n",
       "      <td id=\"T_a93be_row11_col0\" class=\"data row11 col0\" >321</td>\n",
       "      <td id=\"T_a93be_row11_col1\" class=\"data row11 col1\" >DJ15149</td>\n",
       "      <td id=\"T_a93be_row11_col2\" class=\"data row11 col2\" >2003-11-03</td>\n",
       "      <td id=\"T_a93be_row11_col3\" class=\"data row11 col3\" >85559.120000</td>\n",
       "    </tr>\n",
       "    <tr>\n",
       "      <td id=\"T_a93be_row12_col0\" class=\"data row12 col0\" >323</td>\n",
       "      <td id=\"T_a93be_row12_col1\" class=\"data row12 col1\" >AL493079</td>\n",
       "      <td id=\"T_a93be_row12_col2\" class=\"data row12 col2\" >2005-05-23</td>\n",
       "      <td id=\"T_a93be_row12_col3\" class=\"data row12 col3\" >75020.130000</td>\n",
       "    </tr>\n",
       "  </tbody>\n",
       "</table>\n"
      ],
      "text/plain": [
       "<pandas.io.formats.style.Styler at 0x2ba4d209390>"
      ]
     },
     "execution_count": 186,
     "metadata": {},
     "output_type": "execute_result"
    }
   ],
   "source": [
    "avg_payment = session.query(func.avg(Payment.amount)).scalar()\n",
    "num10 = session.query(Payment).filter(Payment.amount >= avg_payment*2)\n",
    "\n",
    "df10 = to_df(num10)\n",
    "df10.style.hide(axis='index')"
   ]
  },
  {
   "cell_type": "markdown",
   "id": "dd10bc19",
   "metadata": {},
   "source": [
    "### 11. What is the average percentage markup of the MSRP on buyPrice?"
   ]
  },
  {
   "cell_type": "code",
   "execution_count": 187,
   "id": "d72a19a7",
   "metadata": {},
   "outputs": [
    {
     "name": "stdout",
     "output_type": "stream",
     "text": [
      "Average percentage markup of the MSRP on buyPrice is 88.7023921713%\n"
     ]
    }
   ],
   "source": [
    "a = Product.buyPrice\n",
    "b = Product.MSRP\n",
    "num11 = session.query(func.avg((b-a)/a)*100).scalar()\n",
    "print(f\"Average percentage markup of the MSRP on buyPrice is {num11}%\")"
   ]
  },
  {
   "cell_type": "markdown",
   "id": "b788f8de",
   "metadata": {},
   "source": [
    "### 12. How many distinct products does ClassicModels sell?"
   ]
  },
  {
   "cell_type": "code",
   "execution_count": 160,
   "id": "5ef826d4",
   "metadata": {},
   "outputs": [
    {
     "name": "stdout",
     "output_type": "stream",
     "text": [
      "Distinct products: 110\n"
     ]
    }
   ],
   "source": [
    "num12 = session.query(Product).distinct().count()\n",
    "print(f\"Distinct products: {num12}\")"
   ]
  },
  {
   "cell_type": "markdown",
   "id": "e7bcb132",
   "metadata": {},
   "source": [
    "### 13. Report the name and city of customers who don't have sales representatives?"
   ]
  },
  {
   "cell_type": "code",
   "execution_count": 188,
   "id": "659cfbf5",
   "metadata": {},
   "outputs": [
    {
     "data": {
      "text/html": [
       "<style type=\"text/css\">\n",
       "</style>\n",
       "<table id=\"T_61d4d\">\n",
       "  <thead>\n",
       "    <tr>\n",
       "      <th id=\"T_61d4d_level0_col0\" class=\"col_heading level0 col0\" >customerName</th>\n",
       "      <th id=\"T_61d4d_level0_col1\" class=\"col_heading level0 col1\" >city</th>\n",
       "      <th id=\"T_61d4d_level0_col2\" class=\"col_heading level0 col2\" >salesRepresentatives</th>\n",
       "    </tr>\n",
       "  </thead>\n",
       "  <tbody>\n",
       "    <tr>\n",
       "      <td id=\"T_61d4d_row0_col0\" class=\"data row0 col0\" >Havel & Zbyszek Co</td>\n",
       "      <td id=\"T_61d4d_row0_col1\" class=\"data row0 col1\" >Warszawa</td>\n",
       "      <td id=\"T_61d4d_row0_col2\" class=\"data row0 col2\" >None</td>\n",
       "    </tr>\n",
       "    <tr>\n",
       "      <td id=\"T_61d4d_row1_col0\" class=\"data row1 col0\" >Porto Imports Co.</td>\n",
       "      <td id=\"T_61d4d_row1_col1\" class=\"data row1 col1\" >Lisboa</td>\n",
       "      <td id=\"T_61d4d_row1_col2\" class=\"data row1 col2\" >None</td>\n",
       "    </tr>\n",
       "    <tr>\n",
       "      <td id=\"T_61d4d_row2_col0\" class=\"data row2 col0\" >Asian Shopping Network, Co</td>\n",
       "      <td id=\"T_61d4d_row2_col1\" class=\"data row2 col1\" >Singapore</td>\n",
       "      <td id=\"T_61d4d_row2_col2\" class=\"data row2 col2\" >None</td>\n",
       "    </tr>\n",
       "    <tr>\n",
       "      <td id=\"T_61d4d_row3_col0\" class=\"data row3 col0\" >Natürlich Autos</td>\n",
       "      <td id=\"T_61d4d_row3_col1\" class=\"data row3 col1\" >Cunewalde</td>\n",
       "      <td id=\"T_61d4d_row3_col2\" class=\"data row3 col2\" >None</td>\n",
       "    </tr>\n",
       "    <tr>\n",
       "      <td id=\"T_61d4d_row4_col0\" class=\"data row4 col0\" >ANG Resellers</td>\n",
       "      <td id=\"T_61d4d_row4_col1\" class=\"data row4 col1\" >Madrid</td>\n",
       "      <td id=\"T_61d4d_row4_col2\" class=\"data row4 col2\" >None</td>\n",
       "    </tr>\n",
       "    <tr>\n",
       "      <td id=\"T_61d4d_row5_col0\" class=\"data row5 col0\" >Messner Shopping Network</td>\n",
       "      <td id=\"T_61d4d_row5_col1\" class=\"data row5 col1\" >Frankfurt</td>\n",
       "      <td id=\"T_61d4d_row5_col2\" class=\"data row5 col2\" >None</td>\n",
       "    </tr>\n",
       "    <tr>\n",
       "      <td id=\"T_61d4d_row6_col0\" class=\"data row6 col0\" >Franken Gifts, Co</td>\n",
       "      <td id=\"T_61d4d_row6_col1\" class=\"data row6 col1\" >München</td>\n",
       "      <td id=\"T_61d4d_row6_col2\" class=\"data row6 col2\" >None</td>\n",
       "    </tr>\n",
       "    <tr>\n",
       "      <td id=\"T_61d4d_row7_col0\" class=\"data row7 col0\" >BG&E Collectables</td>\n",
       "      <td id=\"T_61d4d_row7_col1\" class=\"data row7 col1\" >Fribourg</td>\n",
       "      <td id=\"T_61d4d_row7_col2\" class=\"data row7 col2\" >None</td>\n",
       "    </tr>\n",
       "    <tr>\n",
       "      <td id=\"T_61d4d_row8_col0\" class=\"data row8 col0\" >Schuyler Imports</td>\n",
       "      <td id=\"T_61d4d_row8_col1\" class=\"data row8 col1\" >Amsterdam</td>\n",
       "      <td id=\"T_61d4d_row8_col2\" class=\"data row8 col2\" >None</td>\n",
       "    </tr>\n",
       "    <tr>\n",
       "      <td id=\"T_61d4d_row9_col0\" class=\"data row9 col0\" >Der Hund Imports</td>\n",
       "      <td id=\"T_61d4d_row9_col1\" class=\"data row9 col1\" >Berlin</td>\n",
       "      <td id=\"T_61d4d_row9_col2\" class=\"data row9 col2\" >None</td>\n",
       "    </tr>\n",
       "    <tr>\n",
       "      <td id=\"T_61d4d_row10_col0\" class=\"data row10 col0\" >Cramer Spezialitäten, Ltd</td>\n",
       "      <td id=\"T_61d4d_row10_col1\" class=\"data row10 col1\" >Brandenburg</td>\n",
       "      <td id=\"T_61d4d_row10_col2\" class=\"data row10 col2\" >None</td>\n",
       "    </tr>\n",
       "    <tr>\n",
       "      <td id=\"T_61d4d_row11_col0\" class=\"data row11 col0\" >Asian Treasures, Inc.</td>\n",
       "      <td id=\"T_61d4d_row11_col1\" class=\"data row11 col1\" >Cork</td>\n",
       "      <td id=\"T_61d4d_row11_col2\" class=\"data row11 col2\" >None</td>\n",
       "    </tr>\n",
       "    <tr>\n",
       "      <td id=\"T_61d4d_row12_col0\" class=\"data row12 col0\" >SAR Distributors, Co</td>\n",
       "      <td id=\"T_61d4d_row12_col1\" class=\"data row12 col1\" >Hatfield</td>\n",
       "      <td id=\"T_61d4d_row12_col2\" class=\"data row12 col2\" >None</td>\n",
       "    </tr>\n",
       "    <tr>\n",
       "      <td id=\"T_61d4d_row13_col0\" class=\"data row13 col0\" >Kommission Auto</td>\n",
       "      <td id=\"T_61d4d_row13_col1\" class=\"data row13 col1\" >Münster</td>\n",
       "      <td id=\"T_61d4d_row13_col2\" class=\"data row13 col2\" >None</td>\n",
       "    </tr>\n",
       "    <tr>\n",
       "      <td id=\"T_61d4d_row14_col0\" class=\"data row14 col0\" >Lisboa Souveniers, Inc</td>\n",
       "      <td id=\"T_61d4d_row14_col1\" class=\"data row14 col1\" >Lisboa</td>\n",
       "      <td id=\"T_61d4d_row14_col2\" class=\"data row14 col2\" >None</td>\n",
       "    </tr>\n",
       "    <tr>\n",
       "      <td id=\"T_61d4d_row15_col0\" class=\"data row15 col0\" >Stuttgart Collectable Exchange</td>\n",
       "      <td id=\"T_61d4d_row15_col1\" class=\"data row15 col1\" >Stuttgart</td>\n",
       "      <td id=\"T_61d4d_row15_col2\" class=\"data row15 col2\" >None</td>\n",
       "    </tr>\n",
       "    <tr>\n",
       "      <td id=\"T_61d4d_row16_col0\" class=\"data row16 col0\" >Feuer Online Stores, Inc</td>\n",
       "      <td id=\"T_61d4d_row16_col1\" class=\"data row16 col1\" >Leipzig</td>\n",
       "      <td id=\"T_61d4d_row16_col2\" class=\"data row16 col2\" >None</td>\n",
       "    </tr>\n",
       "    <tr>\n",
       "      <td id=\"T_61d4d_row17_col0\" class=\"data row17 col0\" >Warburg Exchange</td>\n",
       "      <td id=\"T_61d4d_row17_col1\" class=\"data row17 col1\" >Aachen</td>\n",
       "      <td id=\"T_61d4d_row17_col2\" class=\"data row17 col2\" >None</td>\n",
       "    </tr>\n",
       "    <tr>\n",
       "      <td id=\"T_61d4d_row18_col0\" class=\"data row18 col0\" >Anton Designs, Ltd.</td>\n",
       "      <td id=\"T_61d4d_row18_col1\" class=\"data row18 col1\" >Madrid</td>\n",
       "      <td id=\"T_61d4d_row18_col2\" class=\"data row18 col2\" >None</td>\n",
       "    </tr>\n",
       "    <tr>\n",
       "      <td id=\"T_61d4d_row19_col0\" class=\"data row19 col0\" >Mit Vergnügen & Co.</td>\n",
       "      <td id=\"T_61d4d_row19_col1\" class=\"data row19 col1\" >Mannheim</td>\n",
       "      <td id=\"T_61d4d_row19_col2\" class=\"data row19 col2\" >None</td>\n",
       "    </tr>\n",
       "    <tr>\n",
       "      <td id=\"T_61d4d_row20_col0\" class=\"data row20 col0\" >Kremlin Collectables, Co.</td>\n",
       "      <td id=\"T_61d4d_row20_col1\" class=\"data row20 col1\" >Saint Petersburg</td>\n",
       "      <td id=\"T_61d4d_row20_col2\" class=\"data row20 col2\" >None</td>\n",
       "    </tr>\n",
       "    <tr>\n",
       "      <td id=\"T_61d4d_row21_col0\" class=\"data row21 col0\" >Raanan Stores, Inc</td>\n",
       "      <td id=\"T_61d4d_row21_col1\" class=\"data row21 col1\" >Herzlia</td>\n",
       "      <td id=\"T_61d4d_row21_col2\" class=\"data row21 col2\" >None</td>\n",
       "    </tr>\n",
       "  </tbody>\n",
       "</table>\n"
      ],
      "text/plain": [
       "<pandas.io.formats.style.Styler at 0x2ba4fd28190>"
      ]
     },
     "execution_count": 188,
     "metadata": {},
     "output_type": "execute_result"
    }
   ],
   "source": [
    "num13 = session.query(Customer).filter(Customer.salesRepEmployeeNumber == None)\n",
    "\n",
    "df13 = to_df(num13).rename(columns={'salesRepEmployeeNumber':'salesRepresentatives'})\n",
    "df13[[\"customerName\", \"city\", 'salesRepresentatives']].style.hide(axis='index')"
   ]
  },
  {
   "cell_type": "markdown",
   "id": "0c86d898",
   "metadata": {},
   "source": [
    "### 14. What are the names of executives with VP or Manager in their title? Use the CONCAT function to combine the employee's first name and last name into a single field for reporting."
   ]
  },
  {
   "cell_type": "code",
   "execution_count": 18,
   "id": "ba2d0485",
   "metadata": {},
   "outputs": [
    {
     "data": {
      "text/html": [
       "<style type=\"text/css\">\n",
       "</style>\n",
       "<table id=\"T_85699\">\n",
       "  <thead>\n",
       "    <tr>\n",
       "      <th id=\"T_85699_level0_col0\" class=\"col_heading level0 col0\" >employeeNumber</th>\n",
       "      <th id=\"T_85699_level0_col1\" class=\"col_heading level0 col1\" >full_name</th>\n",
       "      <th id=\"T_85699_level0_col2\" class=\"col_heading level0 col2\" >jobTitle</th>\n",
       "    </tr>\n",
       "  </thead>\n",
       "  <tbody>\n",
       "    <tr>\n",
       "      <td id=\"T_85699_row0_col0\" class=\"data row0 col0\" >1056</td>\n",
       "      <td id=\"T_85699_row0_col1\" class=\"data row0 col1\" >Mary Patterson</td>\n",
       "      <td id=\"T_85699_row0_col2\" class=\"data row0 col2\" >VP Sales</td>\n",
       "    </tr>\n",
       "    <tr>\n",
       "      <td id=\"T_85699_row1_col0\" class=\"data row1 col0\" >1076</td>\n",
       "      <td id=\"T_85699_row1_col1\" class=\"data row1 col1\" >Jeff Firrelli</td>\n",
       "      <td id=\"T_85699_row1_col2\" class=\"data row1 col2\" >VP Marketing</td>\n",
       "    </tr>\n",
       "    <tr>\n",
       "      <td id=\"T_85699_row2_col0\" class=\"data row2 col0\" >1088</td>\n",
       "      <td id=\"T_85699_row2_col1\" class=\"data row2 col1\" >William Patterson</td>\n",
       "      <td id=\"T_85699_row2_col2\" class=\"data row2 col2\" >Sales Manager (APAC)</td>\n",
       "    </tr>\n",
       "    <tr>\n",
       "      <td id=\"T_85699_row3_col0\" class=\"data row3 col0\" >1102</td>\n",
       "      <td id=\"T_85699_row3_col1\" class=\"data row3 col1\" >Gerard Bondur</td>\n",
       "      <td id=\"T_85699_row3_col2\" class=\"data row3 col2\" >Sale Manager (EMEA)</td>\n",
       "    </tr>\n",
       "    <tr>\n",
       "      <td id=\"T_85699_row4_col0\" class=\"data row4 col0\" >1143</td>\n",
       "      <td id=\"T_85699_row4_col1\" class=\"data row4 col1\" >Anthony Bow</td>\n",
       "      <td id=\"T_85699_row4_col2\" class=\"data row4 col2\" >Sales Manager (NA)</td>\n",
       "    </tr>\n",
       "  </tbody>\n",
       "</table>\n"
      ],
      "text/plain": [
       "<pandas.io.formats.style.Styler at 0x1d1d607d2d0>"
      ]
     },
     "execution_count": 18,
     "metadata": {},
     "output_type": "execute_result"
    }
   ],
   "source": [
    "num14 = session.query(Employee.employeeNumber, \n",
    "                      func.concat(Employee.firstName, \" \", Employee.lastName), \n",
    "                      Employee.jobTitle).filter(or_(Employee.jobTitle.contains('VP') , \n",
    "                                                    Employee.jobTitle.contains('Manager')))\n",
    "\n",
    "df14 = to_df(num14).rename(columns={'concat_1':'full_name'})\n",
    "df14.style.hide(axis='index')"
   ]
  },
  {
   "cell_type": "markdown",
   "id": "7c823841",
   "metadata": {},
   "source": [
    "### 15. Which orders have a value greater than $5,000?"
   ]
  },
  {
   "cell_type": "code",
   "execution_count": 17,
   "id": "0bcde0a1",
   "metadata": {},
   "outputs": [
    {
     "data": {
      "text/html": [
       "<div>\n",
       "<style scoped>\n",
       "    .dataframe tbody tr th:only-of-type {\n",
       "        vertical-align: middle;\n",
       "    }\n",
       "\n",
       "    .dataframe tbody tr th {\n",
       "        vertical-align: top;\n",
       "    }\n",
       "\n",
       "    .dataframe thead th {\n",
       "        text-align: right;\n",
       "    }\n",
       "</style>\n",
       "<table border=\"1\" class=\"dataframe\">\n",
       "  <thead>\n",
       "    <tr style=\"text-align: right;\">\n",
       "      <th></th>\n",
       "      <th>orderNumber</th>\n",
       "      <th>concat_1</th>\n",
       "      <th>quantityOrdered</th>\n",
       "      <th>Value</th>\n",
       "    </tr>\n",
       "  </thead>\n",
       "  <tbody>\n",
       "    <tr>\n",
       "      <th>0</th>\n",
       "      <td>10103</td>\n",
       "      <td>$214.30</td>\n",
       "      <td>26</td>\n",
       "      <td>$5571.80</td>\n",
       "    </tr>\n",
       "    <tr>\n",
       "      <th>1</th>\n",
       "      <td>10103</td>\n",
       "      <td>$119.67</td>\n",
       "      <td>42</td>\n",
       "      <td>$5026.14</td>\n",
       "    </tr>\n",
       "    <tr>\n",
       "      <th>2</th>\n",
       "      <td>10105</td>\n",
       "      <td>$127.84</td>\n",
       "      <td>50</td>\n",
       "      <td>$6392.00</td>\n",
       "    </tr>\n",
       "    <tr>\n",
       "      <th>3</th>\n",
       "      <td>10105</td>\n",
       "      <td>$205.72</td>\n",
       "      <td>41</td>\n",
       "      <td>$8434.52</td>\n",
       "    </tr>\n",
       "    <tr>\n",
       "      <th>4</th>\n",
       "      <td>10105</td>\n",
       "      <td>$117.97</td>\n",
       "      <td>43</td>\n",
       "      <td>$5072.71</td>\n",
       "    </tr>\n",
       "    <tr>\n",
       "      <th>...</th>\n",
       "      <td>...</td>\n",
       "      <td>...</td>\n",
       "      <td>...</td>\n",
       "      <td>...</td>\n",
       "    </tr>\n",
       "    <tr>\n",
       "      <th>405</th>\n",
       "      <td>10421</td>\n",
       "      <td>$167.06</td>\n",
       "      <td>35</td>\n",
       "      <td>$5847.10</td>\n",
       "    </tr>\n",
       "    <tr>\n",
       "      <th>406</th>\n",
       "      <td>10424</td>\n",
       "      <td>$201.44</td>\n",
       "      <td>50</td>\n",
       "      <td>$10072.00</td>\n",
       "    </tr>\n",
       "    <tr>\n",
       "      <th>407</th>\n",
       "      <td>10424</td>\n",
       "      <td>$121.64</td>\n",
       "      <td>49</td>\n",
       "      <td>$5960.36</td>\n",
       "    </tr>\n",
       "    <tr>\n",
       "      <th>408</th>\n",
       "      <td>10424</td>\n",
       "      <td>$108.50</td>\n",
       "      <td>54</td>\n",
       "      <td>$5859.00</td>\n",
       "    </tr>\n",
       "    <tr>\n",
       "      <th>409</th>\n",
       "      <td>10425</td>\n",
       "      <td>$127.79</td>\n",
       "      <td>49</td>\n",
       "      <td>$6261.71</td>\n",
       "    </tr>\n",
       "  </tbody>\n",
       "</table>\n",
       "<p>410 rows × 4 columns</p>\n",
       "</div>"
      ],
      "text/plain": [
       "     orderNumber concat_1  quantityOrdered      Value\n",
       "0          10103  $214.30               26   $5571.80\n",
       "1          10103  $119.67               42   $5026.14\n",
       "2          10105  $127.84               50   $6392.00\n",
       "3          10105  $205.72               41   $8434.52\n",
       "4          10105  $117.97               43   $5072.71\n",
       "..           ...      ...              ...        ...\n",
       "405        10421  $167.06               35   $5847.10\n",
       "406        10424  $201.44               50  $10072.00\n",
       "407        10424  $121.64               49   $5960.36\n",
       "408        10424  $108.50               54   $5859.00\n",
       "409        10425  $127.79               49   $6261.71\n",
       "\n",
       "[410 rows x 4 columns]"
      ]
     },
     "execution_count": 17,
     "metadata": {},
     "output_type": "execute_result"
    }
   ],
   "source": [
    "num15 = session.query(Orderdetail.orderNumber, func.concat(\"$\", Orderdetail.priceEach), \n",
    "                      Orderdetail.quantityOrdered, \n",
    "                      func.concat(\"$\", Orderdetail.priceEach * Orderdetail.quantityOrdered)).filter(Orderdetail.priceEach * Orderdetail.quantityOrdered > 5000)\n",
    "\n",
    "df15 = to_df(num15).rename(columns={'concat_3':'Value'})\n",
    "df15"
   ]
  }
 ],
 "metadata": {
  "kernelspec": {
   "display_name": "Python 3 (ipykernel)",
   "language": "python",
   "name": "python3"
  },
  "language_info": {
   "codemirror_mode": {
    "name": "ipython",
    "version": 3
   },
   "file_extension": ".py",
   "mimetype": "text/x-python",
   "name": "python",
   "nbconvert_exporter": "python",
   "pygments_lexer": "ipython3",
   "version": "3.10.6"
  }
 },
 "nbformat": 4,
 "nbformat_minor": 5
}
